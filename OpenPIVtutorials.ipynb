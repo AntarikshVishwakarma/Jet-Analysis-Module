{
 "cells": [
  {
   "cell_type": "code",
   "execution_count": null,
   "metadata": {
    "colab": {
     "base_uri": "https://localhost:8080/"
    },
    "id": "6kctKuYCC_Hd",
    "outputId": "fca125bc-1774-4e13-f698-ca439ca3e61b"
   },
   "outputs": [],
   "source": [
    "!pip install -e git+https://github.com/openpiv/openpiv-python@windef_refactoring#egg=openpiv-python"
   ]
  },
  {
   "cell_type": "markdown",
   "metadata": {
    "id": "VLwCrE4E7BNl"
   },
   "source": [
    "Sol 1)"
   ]
  },
  {
   "cell_type": "code",
   "execution_count": null,
   "metadata": {
    "colab": {
     "base_uri": "https://localhost:8080/",
     "height": 1000
    },
    "id": "Ugu-8iMTE1Tf",
    "outputId": "062af7b3-68c6-41a5-836f-5f370a58e8a6"
   },
   "outputs": [],
   "source": [
    "from openpiv import tools, pyprocess, validation, filters, scaling \n",
    "import numpy as np\n",
    "import matplotlib.pyplot as plt\n",
    "%matplotlib inline"
   ]
  },
  {
   "cell_type": "code",
   "execution_count": null,
   "metadata": {
    "colab": {
     "base_uri": "https://localhost:8080/",
     "height": 1000
    },
    "id": "Ugu-8iMTE1Tf",
    "outputId": "062af7b3-68c6-41a5-836f-5f370a58e8a6"
   },
   "outputs": [],
   "source": [
    "frame_a  = tools.imread( '/content/B00001.png' )\n",
    "frame_b  = tools.imread( '/content/B00002.png' )\n",
    "\n",
    "print(\" Frame A => \\n\",frame_a)\n",
    "\n",
    "\n",
    "fig,ax = plt.subplots(1,2,figsize=(12,10))\n",
    "ax[0].imshow(frame_a,cmap=plt.cm.gray)\n",
    "ax[1].imshow(frame_b,cmap=plt.cm.gray)\n",
    "\n",
    "\n",
    "\n",
    "winsize = 24 # pixels\n",
    "searchsize = 64  # pixels, search in image B\n",
    "overlap = 12 # pixels\n",
    "dt = 0.02 # sec\n",
    "\n",
    "\n",
    "u0, v0, sig2noise = pyprocess.extended_search_area_piv( frame_a.astype(np.int32), \n",
    "                                                       frame_b.astype(np.int32),\n",
    "                                                       window_size=winsize, \n",
    "                                                       overlap=overlap, dt=dt, \n",
    "                                                       search_area_size=searchsize, \n",
    "                                                       sig2noise_method='peak2peak' )\n",
    "# OpenPIV function responsible for convultaional analysis of the entire image using a search window\n",
    "\n",
    "\n",
    "x, y = pyprocess.get_coordinates( image_size=frame_a.shape, \n",
    "                                 search_area_size=searchsize,\n",
    "                                 overlap=overlap )\n",
    "# OpenPIV module that finds the center of the interrogation window\n",
    "\n",
    "\n",
    "u1, v1, mask = validation.sig2noise_val( u0, v0, sig2noise, threshold = 1.3 )\n",
    "# OpenPIV module that replaces fake vectors with 0 if below a certain threshhold\n",
    "\n",
    "\n",
    "u2, v2 = filters.replace_outliers( u1, v1, method='localmean', max_iter=10, kernel_size=2)\n",
    "# Invalid velocity vectors are replaced with a weighted average of neighbouring elements \n",
    "# that are not valid themselves. For the local mean method the kernel size is used to find\n",
    "# the weighted average. If the surrounding elements are not valid then iterations are used \n",
    "# upto a point where variation in the region is below a certain threshold \n",
    "\n",
    "\n",
    "x, y, u3, v3 = scaling.uniform(x, y, u2, v2, scaling_factor = 96.52 )\n",
    "\n",
    "\n",
    "\n",
    "tools.save(x, y, u3, v3, sig2noise, mask, 'exp1_001.txt' )\n",
    "# saves flow field in an ascii file, masks invalid vectors\n",
    "\n",
    "\n",
    "tools.display_vector_field('exp1_001.txt', scale=50, width=0.0025)\n",
    "\n",
    "\n",
    "\n",
    "fig, ax = plt.subplots(figsize=(12,12))\n",
    "tools.display_vector_field('exp1_001.txt', ax=ax, \n",
    "                           scaling_factor=96.52, scale=50, \n",
    "                           width=0.0025, on_img=True, \n",
    "                           image_name='/content/B00002.png');"
   ]
  },
  {
   "cell_type": "markdown",
   "metadata": {
    "id": "6jmLG7767FHO"
   },
   "source": [
    "Sol 2)"
   ]
  },
  {
   "cell_type": "code",
   "execution_count": null,
   "metadata": {
    "colab": {
     "base_uri": "https://localhost:8080/",
     "height": 1000
    },
    "id": "fVTBQfL8Aj67",
    "outputId": "f3c7f885-c4a7-4aad-8519-414088c0951d"
   },
   "outputs": [],
   "source": [
    "# %load red_Cell.py\n",
    "from skimage import img_as_uint\n",
    "from openpiv.process import widim\n",
    "\n",
    "frame_a  = tools.imread('/content/pic1.bmp')  \n",
    "frame_b  = tools.imread('/content/pic2.bmp')\n",
    "\n",
    "plt.imshow(np.c_[frame_a,frame_b],cmap=plt.cm.gray)\n",
    "\n",
    "\n",
    "# Use Cython version: pyprocess.pyx\n",
    "\n",
    "u, v, sig2noise = pyprocess.extended_search_area_piv( frame_a.astype(np.int32), \n",
    "                                                     frame_b.astype(np.int32), \n",
    "                                                     window_size=32, overlap=8, \n",
    "                                                     dt=.1,search_area_size=64, \n",
    "                                                     sig2noise_method='peak2peak' )\n",
    "x, y = pyprocess.get_coordinates( image_size=frame_a.shape, search_area_size=64, overlap=8 )\n",
    "\n",
    "u, v, mask = validation.sig2noise_val( u, v, sig2noise, threshold = 1.3 )\n",
    "u, v = filters.replace_outliers( u, v, method='localmean', max_iter=10, kernel_size=2)\n",
    "x, y, u, v = scaling.uniform(x, y, u, v, scaling_factor = 96.52 )\n",
    "\n",
    "tools.save(x, y, u, v, sig2noise, mask, 'Y4-S3_Camera000398_a.txt' )\n",
    "\n",
    "\n",
    "# Use Python version, pyprocess:\n",
    "\n",
    "u, v, sig2noise = pyprocess.extended_search_area_piv( frame_a.astype(np.int32), \n",
    "                                                     frame_b.astype(np.int32), \n",
    "                                                     window_size=32, overlap=8, \n",
    "                                                     dt=.1,search_area_size=64, \n",
    "                                                     sig2noise_method='peak2peak' )\n",
    "x, y = pyprocess.get_coordinates( image_size=frame_a.shape, \n",
    "                                 search_area_size=64, overlap=8)\n",
    "u, v, mask = validation.sig2noise_val( u, v, sig2noise, threshold = 1.3 )\n",
    "u, v = filters.replace_outliers( u, v, method='localmean', max_iter=10, kernel_size=2)\n",
    "x, y, u, v = scaling.uniform(x, y, u, v, scaling_factor = 96.52 )\n",
    "\n",
    "tools.save(x, y, u, v, sig2noise, mask, 'Y4-S3_Camera000398_b.txt' )\n",
    "\n",
    "# \"natural\" view without image\n",
    "fig,ax = plt.subplots(2,1,figsize=(6,12))\n",
    "ax[0].invert_yaxis()\n",
    "ax[0].quiver(x,y,u,v)\n",
    "ax[0].set_title(' Sort of natural view ')\n",
    "\n",
    "ax[1].quiver(x,y,u,-v)\n",
    "ax[1].set_title('Quiver with 0,0 origin needs `negative` v for display');\n",
    "# plt.quiver(x,y,u,v)\n",
    "\n",
    "\n",
    "\n",
    "tools.display_vector_field('Y4-S3_Camera000398_a.txt',\n",
    "                           on_img=True,image_name='/content/pic1.bmp',\n",
    "                           scaling_factor=96.52)\n",
    "\n",
    "\n",
    "\n",
    "tools.display_vector_field('Y4-S3_Camera000398_a.txt')\n",
    "\n",
    "\n",
    "\n",
    "tools.display_vector_field('Y4-S3_Camera000398_b.txt')\n",
    "\n",
    "x,y,u,v, mask = widim.WiDIM(frame_a.astype(np.int32), \n",
    "                                frame_b.astype(np.int32), \n",
    "                                ones_like(frame_a).astype(np.int32), \n",
    "                                min_window_size=32, overlap_ratio=0.25, \n",
    "                                coarse_factor=0, dt=0.1, \n",
    "                                validation_method='mean_velocity', \n",
    "                                trust_1st_iter=0, validation_iter=0, \n",
    "                                tolerance=0.7, nb_iter_max=1, \n",
    "                                sig2noise_method='peak2peak')\n",
    "\n",
    "\n",
    "\n",
    "tools.save(x, y, u, v, zeros_like(u), 'Y4-S3_Camera000398_widim1.txt' )\n",
    "\n",
    "x,y,u,v, mask = pyprocess.WiDIM(frame_a.astype(np.int32), frame_b.astype(np.int32), ones_like(frame_a).astype(np.int32), min_window_size=16, overlap_ratio=0.25, coarse_factor=2, dt=0.1, validation_method='mean_velocity', trust_1st_iter=1, validation_iter=2, tolerance=0.7, nb_iter_max=4, sig2noise_method='peak2peak')\n",
    "\n",
    "\n",
    "\n",
    "\n",
    "tools.save(x, y, u, v, zeros_like(u), zeros_like(u), 'Y4-S3_Camera000398_widim2.txt' )\n",
    "\n",
    "tools.display_vector_field('Y4-S3_Camera000398_widim1.txt', widim=True, scale=300, width=0.005)\n",
    "tools.display_vector_field('Y4-S3_Camera000398_widim2.txt', widim=True, scale=300, width=0.005)\n",
    "tools.display_vector_field('Y4-S3_Camera000398_a.txt', scale=2, width=0.005,scaling_factor=96.52)\n",
    "tools.display_vector_field('Y4-S3_Camera000398_b.txt', scale=2, width=0.005,scaling_factor=96.52)\n"
   ]
  },
  {
   "cell_type": "markdown",
   "metadata": {
    "id": "bVLmjcnu7NRE"
   },
   "source": [
    "sol 3)"
   ]
  },
  {
   "cell_type": "code",
   "execution_count": null,
   "metadata": {
    "colab": {
     "base_uri": "https://localhost:8080/",
     "height": 746
    },
    "id": "vuoIH9ng7PEc",
    "outputId": "0f4b2259-f759-4db8-ef8b-8503d123c1ff"
   },
   "outputs": [],
   "source": [
    "file_a = '/content/pic1.bmp'\n",
    "file_b = '/content/pic2.bmp'\n",
    "\n",
    "im_a  = tools.imread( file_a )\n",
    "im_b  = tools.imread( file_b )\n",
    "plt.imshow(np.c_[im_a,im_b],cmap='gray')\n",
    "\n",
    "\n",
    "# let's crop the region of interest\n",
    "frame_a =  im_a[380:1980,0:1390]\n",
    "frame_b =  im_b[380:1980,0:1390]\n",
    "plt.imshow(np.c_[frame_a,frame_b],cmap='gray')\n",
    "\n",
    "\n",
    "\n",
    "\n",
    "# typical parameters:\n",
    "window_size = 32 #pixels\n",
    "overlap = 16 # pixels\n",
    "search_area_size = 24 # pixels \n",
    "frame_rate = 40 # fps\n",
    "\n",
    "# pyprocess again with the masked images, for comparison# pyprocess once with the original images\n",
    "u, v, sig2noise = pyprocess.extended_search_area_piv(\n",
    "                                                       im_a.astype(np.int32) , im_b.astype(np.int32), \n",
    "                                                       window_size = window_size,\n",
    "                                                       overlap = overlap, \n",
    "                                                       dt=1./frame_rate, \n",
    "                                                       search_area_size = 32, \n",
    "                                                       sig2noise_method = 'peak2peak')\n",
    "x, y = pyprocess.get_coordinates( image_size = im_a.shape,\n",
    "                                 search_area_size = 32,\n",
    "                                 overlap = overlap )\n",
    "u, v, mask = validation.global_val( u, v, (-300.,300.),(-300.,300.))\n",
    "u, v, mask = validation.sig2noise_val( u, v, sig2noise, threshold = 1.1 )\n",
    "u, v = filters.replace_outliers( u, v, method='localmean', max_iter = 3, kernel_size = 3)\n",
    "x, y, u, v = scaling.uniform(x, y, u, v, scaling_factor = 96.52 )\n",
    "# save to a file\n",
    "tools.save(x, y, u, v, sig2noise, mask, 'test.txt', fmt='%9.6f', delimiter='\\t')\n",
    "tools.display_vector_field('test.txt', scale=50, width=0.002)\n",
    "\n",
    "\n",
    "\n",
    "# masking using not optimal choice of the methods or parameters:\n",
    "masked_a = preprocess.dynamic_masking(im_a,method='edges',filter_size=7,threshold=0.005)\n",
    "masked_b = preprocess.dynamic_masking(im_b,method='intensity',filter_size=3,threshold=0.0)\n",
    "plt.imshow(np.c_[masked_a,masked_b],cmap='gray')\n",
    "\n",
    "# masking using optimal (manually tuned) set of parameters and the right method:\n",
    "masked_a = preprocess.dynamic_masking(im_a,method='edges',filter_size=7,threshold=0.01)\n",
    "masked_b = preprocess.dynamic_masking(im_b,method='edges',filter_size=7,threshold=0.01)\n",
    "plt.imshow(np.c_[masked_a,masked_b],cmap='gray')\n",
    "\n",
    "# pyprocess the masked cropped image and see the OpenPIV result:\n",
    "\n",
    "# pyprocess again with the masked images, for comparison# pyprocess once with the original images\n",
    "u, v, sig2noise = pyprocess.extended_search_area_piv(\n",
    "                                                       masked_a.astype(np.int32) , masked_b.astype(np.int32), \n",
    "                                                       window_size = window_size,\n",
    "                                                       overlap = overlap, \n",
    "                                                       dt=1./frame_rate, \n",
    "                                                       search_area_size = 32, \n",
    "                                                       sig2noise_method = 'peak2peak')\n",
    "x, y = pyprocess.get_coordinates( image_size = masked_a.shape, \n",
    "                                 search_area_size = 32, \n",
    "                                 overlap = overlap )\n",
    "u, v, mask = validation.global_val( u, v, (-300.,300.),(-300.,300.))\n",
    "u, v, mask = validation.sig2noise_val( u, v, sig2noise, threshold = 1.1)\n",
    "u, v = filters.replace_outliers( u, v, method='localmean', max_iter = 3, kernel_size = 3)\n",
    "x, y, u, v = scaling.uniform(x, y, u, v, scaling_factor = 96.52 )\n",
    "# save to a file\n",
    "tools.save(x, y, u, v, sig2noise, mask, 'test_masked.txt', fmt='%9.6f', delimiter='\\t')\n",
    "tools.display_vector_field('test_masked.txt', scale=50, width=0.002)\n",
    "\n",
    "\n",
    "\n"
   ]
  },
  {
   "cell_type": "markdown",
   "metadata": {
    "id": "JqwfwP9r7T74"
   },
   "source": [
    "Sol 4)"
   ]
  },
  {
   "cell_type": "code",
   "execution_count": null,
   "metadata": {
    "colab": {
     "base_uri": "https://localhost:8080/",
     "height": 931
    },
    "id": "bSjXQvJo7Vfv",
    "outputId": "81e7269a-f055-4334-a09f-c25e33cc259f"
   },
   "outputs": [],
   "source": [
    "frame_a  = tools.imread( '/content/A001_1.tif' )\n",
    "frame_b  = tools.imread( '/content/A001_1 (1).tif' )\n",
    "\n",
    "pylab.imshow(np.c_[frame_a,np.ones((frame_a.shape[0],20)),frame_b],cmap=pylab.cm.gray)\n",
    "\n",
    "##time\n",
    "u, v, sig2noise = pyprocess.extended_search_area_piv(frame_a.astype(np.int32), \n",
    "                                                     frame_b.astype(np.int32),\n",
    "                                                     window_size=24, overlap=12, \n",
    "                                                     dt=0.02, search_area_size=64, \n",
    "                                                     sig2noise_method='peak2peak' )\n",
    "x, y = pyprocess.get_coordinates( image_size=frame_a.shape, search_area_size=64, overlap=12 )\n",
    "u, v, mask = validation.sig2noise_val( u, v, sig2noise, threshold = 2.5 )\n",
    "u, v = filters.replace_outliers( u, v, method='localmean', max_iter=10, kernel_size=2)\n",
    "x, y, u, v = scaling.uniform(x, y, u, v, scaling_factor = 96.52 )\n",
    "tools.save(x, y, u, v, sig2noise, mask, 'exp2_001_extended.txt' )\n",
    "\n",
    "##time\n",
    "u, v, sig2noise = pyprocess.extended_search_area_piv( frame_a, frame_b, corr_method='fft',\n",
    "                                                     window_size=24, overlap=12, \n",
    "                                                     dt=0.02, search_area_size=64, \n",
    "                                                     sig2noise_method='peak2peak' )\n",
    "x, y = pyprocess.get_coordinates( image_size=frame_a.shape, search_area_size=64, \n",
    "                                 overlap=12, search_area_size=64 )\n",
    "u, v, mask = validation.sig2noise_val( u, v, sig2noise, threshold = 2.5 )\n",
    "u, v = filters.replace_outliers( u, v, method='localmean', max_iter=10, kernel_size=2)\n",
    "x, y, u, v = scaling.uniform(x, y, u, v, scaling_factor = 96.52 )\n",
    "tools.save(x, y, u, v, sig2noise, mask, 'exp3_001_fft.txt' )\n",
    "\n",
    "##time \n",
    "u, v, sig2noise = pyprocess.extended_search_area_piv( frame_a, frame_b, \n",
    "                                                     corr_method='direct', \n",
    "                                                     window_size=24, overlap=12, \n",
    "                                                     dt=0.02, search_area_size=64, \n",
    "                                                     sig2noise_method='peak2peak' )\n",
    "x, y = pyprocess.get_coordinates( image_size=frame_a.shape, search_area_size=64, \n",
    "                                 overlap=12)\n",
    "u, v, mask = validation.sig2noise_val( u, v, sig2noise, threshold = 2.5 )\n",
    "u, v = filters.replace_outliers( u, v, method='localmean', max_iter=10, kernel_size=2)\n",
    "x, y, u, v = scaling.uniform(x, y, u, v, scaling_factor = 96.52 )\n",
    "tools.save(x, y, u, v, sig2noise, mask, 'exp4_001_direct.txt' )\n",
    "\n",
    "\n",
    "\n",
    "tools.display_vector_field('exp2_001_extended.txt', scale=30, width=0.0025)\n",
    "tools.display_vector_field('exp3_001_fft.txt', scale=30, width=0.0025)\n",
    "tools.display_vector_field('exp4_001_direct.txt', scale=30, width=0.0025);\n",
    "\n"
   ]
  }
 ],
 "metadata": {
  "colab": {
   "collapsed_sections": [],
   "name": "OpenPIVtutorials.ipynb",
   "provenance": []
  },
  "kernelspec": {
   "display_name": "Python [conda env:algae]",
   "language": "python",
   "name": "conda-env-algae-py"
  },
  "language_info": {
   "codemirror_mode": {
    "name": "ipython",
    "version": 3
   },
   "file_extension": ".py",
   "mimetype": "text/x-python",
   "name": "python",
   "nbconvert_exporter": "python",
   "pygments_lexer": "ipython3",
   "version": "3.8.5"
  }
 },
 "nbformat": 4,
 "nbformat_minor": 4
}
